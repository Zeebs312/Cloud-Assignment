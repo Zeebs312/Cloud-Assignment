{
 "cells": [
  {
   "cell_type": "code",
   "execution_count": 61,
   "id": "429d8efa-833e-4652-b819-ef852456dd48",
   "metadata": {},
   "outputs": [],
   "source": [
    "#Imports\n",
    "import pyspark\n",
    "from pyspark.sql import SparkSession\n",
    "\n",
    "from pyspark.sql.types import StructType,StructField, StringType, IntegerType, DateType\n",
    "from pyspark.sql.functions import col, sum\n",
    "from pyspark.context import SparkContext "
   ]
  },
  {
   "cell_type": "code",
   "execution_count": 62,
   "id": "6df88b77-5215-4015-93e9-d33c4c32a0b3",
   "metadata": {},
   "outputs": [],
   "source": [
    "import findspark\n",
    "findspark.init()"
   ]
  },
  {
   "cell_type": "code",
   "execution_count": 63,
   "id": "24c3762a-dd5d-41e4-b643-e54dd7c9683c",
   "metadata": {},
   "outputs": [],
   "source": [
    "#Create Spark Session\n",
    "spark = SparkSession.builder.appName(\"PySparkExample\").getOrCreate()"
   ]
  },
  {
   "cell_type": "code",
   "execution_count": 64,
   "id": "ee4c0185-383c-49b0-a2ec-62067c867136",
   "metadata": {},
   "outputs": [],
   "source": [
    "#Schema used for dataframe\n",
    "schema = StructType() \\\n",
    "      .add(\"Transaction unique identifier\",StringType(),True) \\\n",
    "      .add(\"Price\",IntegerType(),True) \\\n",
    "      .add(\"Date of Transfer\",DateType(),True) \\\n",
    "      .add(\"Postcode\",StringType(),True) \\\n",
    "      .add(\"Property Type\",StringType(),True) \\\n",
    "      .add(\"Old/New\",StringType(),True) \\\n",
    "      .add(\"Duration\",StringType(),True) \\\n",
    "      .add(\"PAON\",StringType(),True) \\\n",
    "      .add(\"SOAN\",IntegerType(),True) \\\n",
    "      .add(\"Street\",StringType(),True) \\\n",
    "      .add(\"Locality\",StringType(),True) \\\n",
    "      .add(\"Town/City\",StringType(),True) \\\n",
    "      .add(\"District\",StringType(),True) \\\n",
    "      .add(\"County\",StringType(),True) \\\n",
    "      .add(\"PPDCategory_Type\",StringType(),True) \\\n",
    "      .add(\"Record_Status - monthly_file_only\",StringType(),True)"
   ]
  },
  {
   "cell_type": "code",
   "execution_count": 65,
   "id": "660c112c-67d4-4155-9aa6-d069138609ee",
   "metadata": {},
   "outputs": [],
   "source": [
    "df = spark.read.format(\"csv\").option(\"header\",\"true\").schema(schema).option(\"mode\",\"DROPMALFORMED\").load(\"C:/Users/oseda/Documents/Cloud Assignment/202304.csv\")"
   ]
  },
  {
   "cell_type": "code",
   "execution_count": 43,
   "id": "30623ee9-082d-4d4c-b771-127b2aa547f0",
   "metadata": {},
   "outputs": [
    {
     "data": {
      "text/plain": [
       "28276227"
      ]
     },
     "execution_count": 43,
     "metadata": {},
     "output_type": "execute_result"
    }
   ],
   "source": [
    "df.count()\n"
   ]
  },
  {
   "cell_type": "code",
   "execution_count": 45,
   "id": "c6855709-a12d-405d-81ef-6a9a78c5e671",
   "metadata": {},
   "outputs": [
    {
     "data": {
      "text/plain": [
       "10"
      ]
     },
     "execution_count": 45,
     "metadata": {},
     "output_type": "execute_result"
    }
   ],
   "source": [
    "#df.write.csv(\"\")\n",
    "#Partition to improve performance\n",
    "df.repartition(10).rdd.getNumPartitions()"
   ]
  },
  {
   "cell_type": "code",
   "execution_count": 66,
   "id": "b4d60888-e370-4dc3-ba12-a5f67a547f13",
   "metadata": {},
   "outputs": [
    {
     "name": "stdout",
     "output_type": "stream",
     "text": [
      "+-----------------------------+------+----------------+--------+-------------+-------+--------+----+-----------------+-------------+-------------------+---------------+\n",
      "|Transaction unique identifier| Price|Date of Transfer|Postcode|Property Type|Old/New|Duration|SOAN|           Street|    Town/City|           District|         County|\n",
      "+-----------------------------+------+----------------+--------+-------------+-------+--------+----+-----------------+-------------+-------------------+---------------+\n",
      "|         {40FD4DF2-5362-40...| 44500|      1995-02-03| SR6 0AQ|            T|      N|       F|NULL|      HOWICK PARK|   SUNDERLAND|         SUNDERLAND|  TYNE AND WEAR|\n",
      "|         {7A99F89E-7D81-4E...| 56500|      1995-01-13| CO6 1SQ|            T|      N|       F|NULL| BRICK KILN CLOSE|   COLCHESTER|          BRAINTREE|          ESSEX|\n",
      "|         {28225260-E61C-4E...| 58000|      1995-07-28| B90 4TG|            T|      N|       F|NULL| RAINSBROOK DRIVE|     SOLIHULL|           SOLIHULL|  WEST MIDLANDS|\n",
      "|         {444D34D7-9BA6-43...| 51000|      1995-06-28| DY5 1SA|            S|      N|       F|NULL|       MERRY HILL|BRIERLEY HILL|             DUDLEY|  WEST MIDLANDS|\n",
      "|         {AE76CAF1-F8CC-43...| 17000|      1995-03-10| S65 1QJ|            T|      N|       L|NULL|    DENMAN STREET|    ROTHERHAM|          ROTHERHAM|SOUTH YORKSHIRE|\n",
      "|         {709FB471-3690-49...| 58000|      1995-04-28| PE7 3AL|            D|      Y|       F|NULL|       BROOK LANE| PETERBOROUGH|       PETERBOROUGH| CAMBRIDGESHIRE|\n",
      "|         {5FA8692E-537B-42...| 19500|      1995-01-27|SK10 2QW|            T|      N|       L|NULL|    GARDEN STREET| MACCLESFIELD|       MACCLESFIELD|       CHESHIRE|\n",
      "|         {E78710AD-ED1A-4B...| 20000|      1995-01-16| SA6 5AY|            D|      N|       F|NULL|     CLYDACH ROAD|      SWANSEA|            SWANSEA|        SWANSEA|\n",
      "|         {1DFBF83E-53A7-48...|137500|      1995-03-31| NR2 2NQ|            D|      N|       F|NULL|   LIME TREE ROAD|      NORWICH|            NORWICH|        NORFOLK|\n",
      "|         {BCD607D8-7698-4C...| 57500|      1995-12-20| WS6 7BQ|            D|      N|       F|NULL|    MERRILL CLOSE|      WALSALL|SOUTH STAFFORDSHIRE|  STAFFORDSHIRE|\n",
      "|         {461BAE3D-DD53-40...| 70000|      1995-09-20|GL52 3LH|            D|      N|       F|NULL|    NEW BARN LANE|   CHELTENHAM|         CHELTENHAM|GLOUCESTERSHIRE|\n",
      "|         {003DB740-4F22-46...| 62750|      1995-10-02| BR3 4AT|            T|      N|       F|NULL|        EDEN ROAD|    BECKENHAM|            BROMLEY| GREATER LONDON|\n",
      "|         {7BC20813-4C02-4F...| 35000|      1995-07-25|  L9 6DZ|            T|      N|       L|NULL|    TILSTON CLOSE|    LIVERPOOL|          LIVERPOOL|     MERSEYSIDE|\n",
      "|         {8B5FB0C0-01CF-45...| 78000|      1995-09-29|SW16 3BL|            S|      N|       F|NULL|       GREEN LANE|       LONDON|            CROYDON| GREATER LONDON|\n",
      "|         {38008828-F33E-4F...| 51000|      1995-10-31| UB5 5LH|            S|      N|       F|NULL|    BENGARTH ROAD|     NORTHOLT|             EALING| GREATER LONDON|\n",
      "|         {E104A9E7-1D6A-4D...| 36500|      1995-06-09| FY4 1DL|            F|      N|       L|  28| RAWCLIFFE STREET|    BLACKPOOL|          BLACKPOOL|      BLACKPOOL|\n",
      "|         {8982E939-2927-45...| 41000|      1995-02-10|NE45 5AP|            T|      N|       F|NULL|     FRONT STREET|    CORBRIDGE|           TYNEDALE| NORTHUMBERLAND|\n",
      "|         {C6AC299D-A75A-48...|100000|      1995-09-29| WR5 3EU|            D|      N|       F|NULL|BARNESHALL AVENUE|    WORCESTER|          WORCESTER| WORCESTERSHIRE|\n",
      "|         {EAFDBDAA-0C4D-4A...|123000|      1995-09-05|NG34 7TF|            D|      Y|       F|NULL|   CLAY HILL ROAD|     SLEAFORD|     NORTH KESTEVEN|   LINCOLNSHIRE|\n",
      "|         {3A947F9C-D5C3-41...| 47000|      1995-10-30|BS15 9UR|            S|      N|       F|NULL|      AMBLE CLOSE|      BRISTOL|          KINGSWOOD|           AVON|\n",
      "+-----------------------------+------+----------------+--------+-------------+-------+--------+----+-----------------+-------------+-------------------+---------------+\n",
      "only showing top 20 rows\n",
      "\n"
     ]
    }
   ],
   "source": [
    "#Removing columns\n",
    "df = df.drop(\"Locality\",\"Record_Status - monthly_file_only\",\"PPDCategory_Type\",\"PAON\")\n",
    "\n",
    "df.show()"
   ]
  },
  {
   "cell_type": "code",
   "execution_count": 67,
   "id": "9a672b3a-5733-4bb5-97bc-1e71a15a4997",
   "metadata": {},
   "outputs": [
    {
     "name": "stdout",
     "output_type": "stream",
     "text": [
      "Schema matchs!\n"
     ]
    }
   ],
   "source": [
    "expected_schema = ['Transaction unique identifier', 'Price', 'Date of Transfer', 'Postcode', 'Property Type', 'Old/New', 'Duration', 'SOAN', 'Street', 'Town/City', 'District', 'County']\n",
    "\n",
    "if not all(col in df.columns for col in expected_schema):\n",
    "    print(\"Schema mismatch!\")\n",
    "else:\n",
    "    print(\"Schema matchs!\")"
   ]
  },
  {
   "cell_type": "code",
   "execution_count": 68,
   "id": "cb3e4be1-57eb-4114-b18c-28bf7992bc29",
   "metadata": {},
   "outputs": [
    {
     "data": {
      "text/plain": [
       "[('Transaction unique identifier', 'string'),\n",
       " ('Price', 'int'),\n",
       " ('Date of Transfer', 'date'),\n",
       " ('Postcode', 'string'),\n",
       " ('Property Type', 'string'),\n",
       " ('Old/New', 'string'),\n",
       " ('Duration', 'string'),\n",
       " ('SOAN', 'int'),\n",
       " ('Street', 'string'),\n",
       " ('Town/City', 'string'),\n",
       " ('District', 'string'),\n",
       " ('County', 'string')]"
      ]
     },
     "execution_count": 68,
     "metadata": {},
     "output_type": "execute_result"
    }
   ],
   "source": [
    "#Checking df column types\n",
    "df.dtypes"
   ]
  },
  {
   "cell_type": "code",
   "execution_count": 69,
   "id": "d74ab962-83c1-427e-8edd-69d15305a3e9",
   "metadata": {},
   "outputs": [
    {
     "name": "stdout",
     "output_type": "stream",
     "text": [
      "+-----------------------------+-----+----------------+--------+-------------+-------+--------+--------+------+---------+--------+------+\n",
      "|Transaction unique identifier|Price|Date of Transfer|Postcode|Property Type|Old/New|Duration|    SOAN|Street|Town/City|District|County|\n",
      "+-----------------------------+-----+----------------+--------+-------------+-------+--------+--------+------+---------+--------+------+\n",
      "|                            0|    0|               0|   30717|            0|      0|       0|24950367|409794|        0|       0|     0|\n",
      "+-----------------------------+-----+----------------+--------+-------------+-------+--------+--------+------+---------+--------+------+\n",
      "\n",
      "+-----------------------------+------+----------------+--------+-------------+-------+--------+----+-----------------+-------------+-------------------+---------------+\n",
      "|Transaction unique identifier| Price|Date of Transfer|Postcode|Property Type|Old/New|Duration|SOAN|           Street|    Town/City|           District|         County|\n",
      "+-----------------------------+------+----------------+--------+-------------+-------+--------+----+-----------------+-------------+-------------------+---------------+\n",
      "|         {40FD4DF2-5362-40...| 44500|      1995-02-03| SR6 0AQ|            T|      N|       F|   0|      HOWICK PARK|   SUNDERLAND|         SUNDERLAND|  TYNE AND WEAR|\n",
      "|         {7A99F89E-7D81-4E...| 56500|      1995-01-13| CO6 1SQ|            T|      N|       F|   0| BRICK KILN CLOSE|   COLCHESTER|          BRAINTREE|          ESSEX|\n",
      "|         {28225260-E61C-4E...| 58000|      1995-07-28| B90 4TG|            T|      N|       F|   0| RAINSBROOK DRIVE|     SOLIHULL|           SOLIHULL|  WEST MIDLANDS|\n",
      "|         {444D34D7-9BA6-43...| 51000|      1995-06-28| DY5 1SA|            S|      N|       F|   0|       MERRY HILL|BRIERLEY HILL|             DUDLEY|  WEST MIDLANDS|\n",
      "|         {AE76CAF1-F8CC-43...| 17000|      1995-03-10| S65 1QJ|            T|      N|       L|   0|    DENMAN STREET|    ROTHERHAM|          ROTHERHAM|SOUTH YORKSHIRE|\n",
      "|         {709FB471-3690-49...| 58000|      1995-04-28| PE7 3AL|            D|      Y|       F|   0|       BROOK LANE| PETERBOROUGH|       PETERBOROUGH| CAMBRIDGESHIRE|\n",
      "|         {5FA8692E-537B-42...| 19500|      1995-01-27|SK10 2QW|            T|      N|       L|   0|    GARDEN STREET| MACCLESFIELD|       MACCLESFIELD|       CHESHIRE|\n",
      "|         {E78710AD-ED1A-4B...| 20000|      1995-01-16| SA6 5AY|            D|      N|       F|   0|     CLYDACH ROAD|      SWANSEA|            SWANSEA|        SWANSEA|\n",
      "|         {1DFBF83E-53A7-48...|137500|      1995-03-31| NR2 2NQ|            D|      N|       F|   0|   LIME TREE ROAD|      NORWICH|            NORWICH|        NORFOLK|\n",
      "|         {BCD607D8-7698-4C...| 57500|      1995-12-20| WS6 7BQ|            D|      N|       F|   0|    MERRILL CLOSE|      WALSALL|SOUTH STAFFORDSHIRE|  STAFFORDSHIRE|\n",
      "|         {461BAE3D-DD53-40...| 70000|      1995-09-20|GL52 3LH|            D|      N|       F|   0|    NEW BARN LANE|   CHELTENHAM|         CHELTENHAM|GLOUCESTERSHIRE|\n",
      "|         {003DB740-4F22-46...| 62750|      1995-10-02| BR3 4AT|            T|      N|       F|   0|        EDEN ROAD|    BECKENHAM|            BROMLEY| GREATER LONDON|\n",
      "|         {7BC20813-4C02-4F...| 35000|      1995-07-25|  L9 6DZ|            T|      N|       L|   0|    TILSTON CLOSE|    LIVERPOOL|          LIVERPOOL|     MERSEYSIDE|\n",
      "|         {8B5FB0C0-01CF-45...| 78000|      1995-09-29|SW16 3BL|            S|      N|       F|   0|       GREEN LANE|       LONDON|            CROYDON| GREATER LONDON|\n",
      "|         {38008828-F33E-4F...| 51000|      1995-10-31| UB5 5LH|            S|      N|       F|   0|    BENGARTH ROAD|     NORTHOLT|             EALING| GREATER LONDON|\n",
      "|         {E104A9E7-1D6A-4D...| 36500|      1995-06-09| FY4 1DL|            F|      N|       L|  28| RAWCLIFFE STREET|    BLACKPOOL|          BLACKPOOL|      BLACKPOOL|\n",
      "|         {8982E939-2927-45...| 41000|      1995-02-10|NE45 5AP|            T|      N|       F|   0|     FRONT STREET|    CORBRIDGE|           TYNEDALE| NORTHUMBERLAND|\n",
      "|         {C6AC299D-A75A-48...|100000|      1995-09-29| WR5 3EU|            D|      N|       F|   0|BARNESHALL AVENUE|    WORCESTER|          WORCESTER| WORCESTERSHIRE|\n",
      "|         {EAFDBDAA-0C4D-4A...|123000|      1995-09-05|NG34 7TF|            D|      Y|       F|   0|   CLAY HILL ROAD|     SLEAFORD|     NORTH KESTEVEN|   LINCOLNSHIRE|\n",
      "|         {3A947F9C-D5C3-41...| 47000|      1995-10-30|BS15 9UR|            S|      N|       F|   0|      AMBLE CLOSE|      BRISTOL|          KINGSWOOD|           AVON|\n",
      "+-----------------------------+------+----------------+--------+-------------+-------+--------+----+-----------------+-------------+-------------------+---------------+\n",
      "only showing top 20 rows\n",
      "\n"
     ]
    }
   ],
   "source": [
    "#Check & Remove NA values\n",
    "df.select(*(sum(col(c).isNull().cast(\"int\")).alias(c) for c in df.columns)).show()\n",
    "\n",
    "#Fill NA\n",
    "df = df.fillna(value=0,subset=[\"SOAN\"])\n",
    "\n",
    "#Drop Invalid entries\n",
    "df = df.na.drop().show()"
   ]
  },
  {
   "cell_type": "code",
   "execution_count": 70,
   "id": "a0c77092-c47e-4e7d-b8fe-15ff5d11cbfd",
   "metadata": {},
   "outputs": [],
   "source": [
    "#Check & Remove duplicate values\n",
    "#df2 = df.dropDuplicates()"
   ]
  },
  {
   "cell_type": "code",
   "execution_count": 71,
   "id": "887dd63e-be98-4169-8503-6ae85fd8c6f3",
   "metadata": {},
   "outputs": [
    {
     "ename": "AttributeError",
     "evalue": "'NoneType' object has no attribute 'write'",
     "output_type": "error",
     "traceback": [
      "\u001b[1;31m---------------------------------------------------------------------------\u001b[0m",
      "\u001b[1;31mAttributeError\u001b[0m                            Traceback (most recent call last)",
      "Cell \u001b[1;32mIn[71], line 1\u001b[0m\n\u001b[1;32m----> 1\u001b[0m df\u001b[38;5;241m.\u001b[39mwrite\u001b[38;5;241m.\u001b[39mcsv(\u001b[38;5;124m\"\u001b[39m\u001b[38;5;124mdata.csv\u001b[39m\u001b[38;5;124m\"\u001b[39m)\n",
      "\u001b[1;31mAttributeError\u001b[0m: 'NoneType' object has no attribute 'write'"
     ]
    }
   ],
   "source": [
    "df.write.csv(\"data.csv\")"
   ]
  },
  {
   "cell_type": "code",
   "execution_count": null,
   "id": "136e5698-6c8d-4448-93cd-306117eb94dd",
   "metadata": {},
   "outputs": [],
   "source": []
  }
 ],
 "metadata": {
  "kernelspec": {
   "display_name": "Python 3 (ipykernel)",
   "language": "python",
   "name": "python3"
  },
  "language_info": {
   "codemirror_mode": {
    "name": "ipython",
    "version": 3
   },
   "file_extension": ".py",
   "mimetype": "text/x-python",
   "name": "python",
   "nbconvert_exporter": "python",
   "pygments_lexer": "ipython3",
   "version": "3.12.7"
  }
 },
 "nbformat": 4,
 "nbformat_minor": 5
}
