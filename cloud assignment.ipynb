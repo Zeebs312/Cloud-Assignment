{
 "cells": [
  {
   "cell_type": "code",
   "execution_count": 88,
   "id": "dfe3479b-82b5-487a-9839-c4381e8f19cd",
   "metadata": {},
   "outputs": [
    {
     "name": "stdout",
     "output_type": "stream",
     "text": [
      "Requirement already satisfied: pyspark in c:\\users\\oseda\\anaconda3\\lib\\site-packages (3.5.3)\n",
      "Requirement already satisfied: py4j==0.10.9.7 in c:\\users\\oseda\\anaconda3\\lib\\site-packages (from pyspark) (0.10.9.7)\n"
     ]
    }
   ],
   "source": [
    "!pip install pyspark"
   ]
  },
  {
   "cell_type": "code",
   "execution_count": 89,
   "id": "9902dc7c-fe49-45ea-b9e5-7ebc071d9d7c",
   "metadata": {},
   "outputs": [
    {
     "name": "stdout",
     "output_type": "stream",
     "text": [
      "Requirement already satisfied: findspark in c:\\users\\oseda\\anaconda3\\lib\\site-packages (2.0.1)\n"
     ]
    }
   ],
   "source": [
    "!pip install findspark"
   ]
  },
  {
   "cell_type": "code",
   "execution_count": 160,
   "id": "aed1b74d-367e-4752-bb0f-fce9038fea75",
   "metadata": {},
   "outputs": [],
   "source": [
    "import pyspark\n",
    "from pyspark.sql import SparkSession\n",
    "from pyspark.sql.types import StructType,StructField, StringType, IntegerType \n",
    "from pyspark.sql.functions import col"
   ]
  },
  {
   "cell_type": "code",
   "execution_count": 161,
   "id": "9cd3fca8-11cc-4c3a-a391-2e9143943120",
   "metadata": {},
   "outputs": [],
   "source": [
    "import findspark\n",
    "findspark.init()"
   ]
  },
  {
   "cell_type": "code",
   "execution_count": 162,
   "id": "1971ef12-c3e8-447c-9464-dd0bbbcc90fe",
   "metadata": {},
   "outputs": [],
   "source": [
    "#Create Spark Session\n",
    "spark = SparkSession.builder.appName(\"PySparkExample\").getOrCreate()"
   ]
  },
  {
   "cell_type": "code",
   "execution_count": 166,
   "id": "e067b335-ff27-4cbb-b497-bbf1316cab29",
   "metadata": {},
   "outputs": [],
   "source": [
    "schema = StructType() \\\n",
    "      .add(\"Transaction_unique_identifier\",StringType(),True) \\\n",
    "      .add(\"price\",IntegerType(),True) \\\n",
    "      .add(\"Date_of_Transfer\",DateType(),True) \\\n",
    "      .add(\"postcode\",StringType(),True) \\\n",
    "      .add(\"Property_Type\",StringType(),True) \\\n",
    "      .add(\"Old/New\",StringType(),True) \\\n",
    "      .add(\"Duration\",StringType(),True) \\\n",
    "      .add(\"PAON\",StringType(),True) \\\n",
    "      .add(\"Type\",IntegerType(),True) \\\n",
    "      .add(\"Street\",StringType(),True) \\\n",
    "      .add(\"Locality\",StringType(),True) \\\n",
    "      .add(\"Town/City\",StringType(),True) \\\n",
    "      .add(\"District\",StringType(),True) \\\n",
    "      .add(\"County\",StringType(),True) \\\n",
    "      .add(\"PPDCategory_Type\",StringType(),True) \\\n",
    "      .add(\"Record_Status - monthly_file_only\",StringType(),True)"
   ]
  },
  {
   "cell_type": "code",
   "execution_count": 167,
   "id": "0f1292aa-d57b-4101-a7d1-a8ab237cbbf0",
   "metadata": {},
   "outputs": [],
   "source": [
    "df = spark.read.format(\"csv\").option(\"header\",\"true\").schema(schema).option(\"mode\",\"DROPMALFORMED\").load(\"C:/Users/oseda/Documents/Cloud Assignment/202304.csv\")"
   ]
  },
  {
   "cell_type": "code",
   "execution_count": 168,
   "id": "665b0e13-25b2-4423-9032-275d3127bd54",
   "metadata": {},
   "outputs": [
    {
     "name": "stdout",
     "output_type": "stream",
     "text": [
      "+-----------------------------+------+----------------+--------+-------------+-------+--------+--------------+----+-----------------+-------------+-------------------+---------------+\n",
      "|Transaction_unique_identifier| price|Date_of_Transfer|postcode|Property_Type|Old/New|Duration|          PAON|Type|           Street|    Town/City|           District|         County|\n",
      "+-----------------------------+------+----------------+--------+-------------+-------+--------+--------------+----+-----------------+-------------+-------------------+---------------+\n",
      "|         {40FD4DF2-5362-40...| 44500|      1995-02-03| SR6 0AQ|            T|      N|       F|            50|NULL|      HOWICK PARK|   SUNDERLAND|         SUNDERLAND|  TYNE AND WEAR|\n",
      "|         {7A99F89E-7D81-4E...| 56500|      1995-01-13| CO6 1SQ|            T|      N|       F|            19|NULL| BRICK KILN CLOSE|   COLCHESTER|          BRAINTREE|          ESSEX|\n",
      "|         {28225260-E61C-4E...| 58000|      1995-07-28| B90 4TG|            T|      N|       F|            37|NULL| RAINSBROOK DRIVE|     SOLIHULL|           SOLIHULL|  WEST MIDLANDS|\n",
      "|         {444D34D7-9BA6-43...| 51000|      1995-06-28| DY5 1SA|            S|      N|       F|            59|NULL|       MERRY HILL|BRIERLEY HILL|             DUDLEY|  WEST MIDLANDS|\n",
      "|         {AE76CAF1-F8CC-43...| 17000|      1995-03-10| S65 1QJ|            T|      N|       L|            22|NULL|    DENMAN STREET|    ROTHERHAM|          ROTHERHAM|SOUTH YORKSHIRE|\n",
      "|         {709FB471-3690-49...| 58000|      1995-04-28| PE7 3AL|            D|      Y|       F|             4|NULL|       BROOK LANE| PETERBOROUGH|       PETERBOROUGH| CAMBRIDGESHIRE|\n",
      "|         {5FA8692E-537B-42...| 19500|      1995-01-27|SK10 2QW|            T|      N|       L|            38|NULL|    GARDEN STREET| MACCLESFIELD|       MACCLESFIELD|       CHESHIRE|\n",
      "|         {E78710AD-ED1A-4B...| 20000|      1995-01-16| SA6 5AY|            D|      N|       F|           592|NULL|     CLYDACH ROAD|      SWANSEA|            SWANSEA|        SWANSEA|\n",
      "|         {1DFBF83E-53A7-48...|137500|      1995-03-31| NR2 2NQ|            D|      N|       F|            26|NULL|   LIME TREE ROAD|      NORWICH|            NORWICH|        NORFOLK|\n",
      "|         {BCD607D8-7698-4C...| 57500|      1995-12-20| WS6 7BQ|            D|      N|       F|             6|NULL|    MERRILL CLOSE|      WALSALL|SOUTH STAFFORDSHIRE|  STAFFORDSHIRE|\n",
      "|         {461BAE3D-DD53-40...| 70000|      1995-09-20|GL52 3LH|            D|      N|       F|          139B|NULL|    NEW BARN LANE|   CHELTENHAM|         CHELTENHAM|GLOUCESTERSHIRE|\n",
      "|         {003DB740-4F22-46...| 62750|      1995-10-02| BR3 4AT|            T|      N|       F|            56|NULL|        EDEN ROAD|    BECKENHAM|            BROMLEY| GREATER LONDON|\n",
      "|         {7BC20813-4C02-4F...| 35000|      1995-07-25|  L9 6DZ|            T|      N|       L|            25|NULL|    TILSTON CLOSE|    LIVERPOOL|          LIVERPOOL|     MERSEYSIDE|\n",
      "|         {8B5FB0C0-01CF-45...| 78000|      1995-09-29|SW16 3BL|            S|      N|       F|           208|NULL|       GREEN LANE|       LONDON|            CROYDON| GREATER LONDON|\n",
      "|         {38008828-F33E-4F...| 51000|      1995-10-31| UB5 5LH|            S|      N|       F|            57|NULL|    BENGARTH ROAD|     NORTHOLT|             EALING| GREATER LONDON|\n",
      "|         {E104A9E7-1D6A-4D...| 36500|      1995-06-09| FY4 1DL|            F|      N|       L|CLARENCE COURT|  28| RAWCLIFFE STREET|    BLACKPOOL|          BLACKPOOL|      BLACKPOOL|\n",
      "|         {8982E939-2927-45...| 41000|      1995-02-10|NE45 5AP|            T|      N|       F|            21|NULL|     FRONT STREET|    CORBRIDGE|           TYNEDALE| NORTHUMBERLAND|\n",
      "|         {C6AC299D-A75A-48...|100000|      1995-09-29| WR5 3EU|            D|      N|       F|             8|NULL|BARNESHALL AVENUE|    WORCESTER|          WORCESTER| WORCESTERSHIRE|\n",
      "|         {EAFDBDAA-0C4D-4A...|123000|      1995-09-05|NG34 7TF|            D|      Y|       F|             5|NULL|   CLAY HILL ROAD|     SLEAFORD|     NORTH KESTEVEN|   LINCOLNSHIRE|\n",
      "|         {3A947F9C-D5C3-41...| 47000|      1995-10-30|BS15 9UR|            S|      N|       F|             9|NULL|      AMBLE CLOSE|      BRISTOL|          KINGSWOOD|           AVON|\n",
      "+-----------------------------+------+----------------+--------+-------------+-------+--------+--------------+----+-----------------+-------------+-------------------+---------------+\n",
      "only showing top 20 rows\n",
      "\n"
     ]
    }
   ],
   "source": [
    "\n",
    "#Removing columns\n",
    "df = df.drop(\"Locality\")\n",
    "df = df.drop(\"Record_Status - monthly_file_only\")\n",
    "df = df.drop(\"PPDCategory_Type\")\n",
    "df.show()"
   ]
  },
  {
   "cell_type": "code",
   "execution_count": 169,
   "id": "5c7cd330-582a-4157-87a4-baff2eedd91a",
   "metadata": {},
   "outputs": [
    {
     "data": {
      "text/plain": [
       "[('Transaction_unique_identifier', 'string'),\n",
       " ('price', 'int'),\n",
       " ('Date_of_Transfer', 'date'),\n",
       " ('postcode', 'string'),\n",
       " ('Property_Type', 'string'),\n",
       " ('Old/New', 'string'),\n",
       " ('Duration', 'string'),\n",
       " ('PAON', 'string'),\n",
       " ('Type', 'int'),\n",
       " ('Street', 'string'),\n",
       " ('Town/City', 'string'),\n",
       " ('District', 'string'),\n",
       " ('County', 'string')]"
      ]
     },
     "execution_count": 169,
     "metadata": {},
     "output_type": "execute_result"
    }
   ],
   "source": [
    "#Checking df column types\n",
    "df.dtypes"
   ]
  },
  {
   "cell_type": "code",
   "execution_count": 170,
   "id": "21750965-5d57-4dce-a7bf-1fa71f18ccfa",
   "metadata": {},
   "outputs": [
    {
     "name": "stdout",
     "output_type": "stream",
     "text": [
      "+-----------------------------+------+----------------+--------+-------------+-------+--------+--------------+----+-----------------+-------------+-------------------+---------------+\n",
      "|Transaction_unique_identifier| price|Date_of_Transfer|postcode|Property_Type|Old/New|Duration|          PAON|Type|           Street|    Town/City|           District|         County|\n",
      "+-----------------------------+------+----------------+--------+-------------+-------+--------+--------------+----+-----------------+-------------+-------------------+---------------+\n",
      "|         {40FD4DF2-5362-40...| 44500|      1995-02-03| SR6 0AQ|            T|      N|       F|            50|   0|      HOWICK PARK|   SUNDERLAND|         SUNDERLAND|  TYNE AND WEAR|\n",
      "|         {7A99F89E-7D81-4E...| 56500|      1995-01-13| CO6 1SQ|            T|      N|       F|            19|   0| BRICK KILN CLOSE|   COLCHESTER|          BRAINTREE|          ESSEX|\n",
      "|         {28225260-E61C-4E...| 58000|      1995-07-28| B90 4TG|            T|      N|       F|            37|   0| RAINSBROOK DRIVE|     SOLIHULL|           SOLIHULL|  WEST MIDLANDS|\n",
      "|         {444D34D7-9BA6-43...| 51000|      1995-06-28| DY5 1SA|            S|      N|       F|            59|   0|       MERRY HILL|BRIERLEY HILL|             DUDLEY|  WEST MIDLANDS|\n",
      "|         {AE76CAF1-F8CC-43...| 17000|      1995-03-10| S65 1QJ|            T|      N|       L|            22|   0|    DENMAN STREET|    ROTHERHAM|          ROTHERHAM|SOUTH YORKSHIRE|\n",
      "|         {709FB471-3690-49...| 58000|      1995-04-28| PE7 3AL|            D|      Y|       F|             4|   0|       BROOK LANE| PETERBOROUGH|       PETERBOROUGH| CAMBRIDGESHIRE|\n",
      "|         {5FA8692E-537B-42...| 19500|      1995-01-27|SK10 2QW|            T|      N|       L|            38|   0|    GARDEN STREET| MACCLESFIELD|       MACCLESFIELD|       CHESHIRE|\n",
      "|         {E78710AD-ED1A-4B...| 20000|      1995-01-16| SA6 5AY|            D|      N|       F|           592|   0|     CLYDACH ROAD|      SWANSEA|            SWANSEA|        SWANSEA|\n",
      "|         {1DFBF83E-53A7-48...|137500|      1995-03-31| NR2 2NQ|            D|      N|       F|            26|   0|   LIME TREE ROAD|      NORWICH|            NORWICH|        NORFOLK|\n",
      "|         {BCD607D8-7698-4C...| 57500|      1995-12-20| WS6 7BQ|            D|      N|       F|             6|   0|    MERRILL CLOSE|      WALSALL|SOUTH STAFFORDSHIRE|  STAFFORDSHIRE|\n",
      "|         {461BAE3D-DD53-40...| 70000|      1995-09-20|GL52 3LH|            D|      N|       F|          139B|   0|    NEW BARN LANE|   CHELTENHAM|         CHELTENHAM|GLOUCESTERSHIRE|\n",
      "|         {003DB740-4F22-46...| 62750|      1995-10-02| BR3 4AT|            T|      N|       F|            56|   0|        EDEN ROAD|    BECKENHAM|            BROMLEY| GREATER LONDON|\n",
      "|         {7BC20813-4C02-4F...| 35000|      1995-07-25|  L9 6DZ|            T|      N|       L|            25|   0|    TILSTON CLOSE|    LIVERPOOL|          LIVERPOOL|     MERSEYSIDE|\n",
      "|         {8B5FB0C0-01CF-45...| 78000|      1995-09-29|SW16 3BL|            S|      N|       F|           208|   0|       GREEN LANE|       LONDON|            CROYDON| GREATER LONDON|\n",
      "|         {38008828-F33E-4F...| 51000|      1995-10-31| UB5 5LH|            S|      N|       F|            57|   0|    BENGARTH ROAD|     NORTHOLT|             EALING| GREATER LONDON|\n",
      "|         {E104A9E7-1D6A-4D...| 36500|      1995-06-09| FY4 1DL|            F|      N|       L|CLARENCE COURT|  28| RAWCLIFFE STREET|    BLACKPOOL|          BLACKPOOL|      BLACKPOOL|\n",
      "|         {8982E939-2927-45...| 41000|      1995-02-10|NE45 5AP|            T|      N|       F|            21|   0|     FRONT STREET|    CORBRIDGE|           TYNEDALE| NORTHUMBERLAND|\n",
      "|         {C6AC299D-A75A-48...|100000|      1995-09-29| WR5 3EU|            D|      N|       F|             8|   0|BARNESHALL AVENUE|    WORCESTER|          WORCESTER| WORCESTERSHIRE|\n",
      "|         {EAFDBDAA-0C4D-4A...|123000|      1995-09-05|NG34 7TF|            D|      Y|       F|             5|   0|   CLAY HILL ROAD|     SLEAFORD|     NORTH KESTEVEN|   LINCOLNSHIRE|\n",
      "|         {3A947F9C-D5C3-41...| 47000|      1995-10-30|BS15 9UR|            S|      N|       F|             9|   0|      AMBLE CLOSE|      BRISTOL|          KINGSWOOD|           AVON|\n",
      "+-----------------------------+------+----------------+--------+-------------+-------+--------+--------------+----+-----------------+-------------+-------------------+---------------+\n",
      "only showing top 20 rows\n",
      "\n"
     ]
    }
   ],
   "source": [
    "#Remove NA values\n",
    "df = df.fillna(value=0,subset=[\"Type\"])\n",
    "\n",
    "df.show()"
   ]
  },
  {
   "cell_type": "code",
   "execution_count": 171,
   "id": "8ddc2a5e-327f-4960-8034-f9a734f6f471",
   "metadata": {},
   "outputs": [],
   "source": [
    "#Remove duplicate values\n",
    "df2 = df.dropDuplicates([\"Transaction_unique_identifier\", \"Date_of_Transfer\",\"Postcode\"])\n"
   ]
  },
  {
   "cell_type": "code",
   "execution_count": null,
   "id": "329869d7-df3a-401c-bf45-d19861db1957",
   "metadata": {},
   "outputs": [],
   "source": [
    " "
   ]
  }
 ],
 "metadata": {
  "kernelspec": {
   "display_name": "Python 3 (ipykernel)",
   "language": "python",
   "name": "python3"
  },
  "language_info": {
   "codemirror_mode": {
    "name": "ipython",
    "version": 3
   },
   "file_extension": ".py",
   "mimetype": "text/x-python",
   "name": "python",
   "nbconvert_exporter": "python",
   "pygments_lexer": "ipython3",
   "version": "3.12.7"
  }
 },
 "nbformat": 4,
 "nbformat_minor": 5
}
