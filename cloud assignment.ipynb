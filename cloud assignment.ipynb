{
 "cells": [
  {
   "cell_type": "code",
   "execution_count": 1,
   "id": "dfe3479b-82b5-487a-9839-c4381e8f19cd",
   "metadata": {},
   "outputs": [
    {
     "name": "stdout",
     "output_type": "stream",
     "text": [
      "Requirement already satisfied: pyspark in c:\\users\\oseda\\anaconda3\\lib\\site-packages (3.5.3)\n",
      "Requirement already satisfied: py4j==0.10.9.7 in c:\\users\\oseda\\anaconda3\\lib\\site-packages (from pyspark) (0.10.9.7)\n"
     ]
    }
   ],
   "source": [
    "!pip install pyspark"
   ]
  },
  {
   "cell_type": "code",
   "execution_count": 2,
   "id": "9902dc7c-fe49-45ea-b9e5-7ebc071d9d7c",
   "metadata": {},
   "outputs": [
    {
     "name": "stdout",
     "output_type": "stream",
     "text": [
      "Requirement already satisfied: findspark in c:\\users\\oseda\\anaconda3\\lib\\site-packages (2.0.1)\n"
     ]
    }
   ],
   "source": [
    "!pip install findspark"
   ]
  },
  {
   "cell_type": "code",
   "execution_count": 2,
   "id": "aed1b74d-367e-4752-bb0f-fce9038fea75",
   "metadata": {},
   "outputs": [],
   "source": [
    "import pyspark\n",
    "from pyspark.sql import SparkSession"
   ]
  },
  {
   "cell_type": "code",
   "execution_count": 3,
   "id": "9cd3fca8-11cc-4c3a-a391-2e9143943120",
   "metadata": {},
   "outputs": [],
   "source": [
    "import findspark\n",
    "findspark.init()"
   ]
  },
  {
   "cell_type": "code",
   "execution_count": 4,
   "id": "1971ef12-c3e8-447c-9464-dd0bbbcc90fe",
   "metadata": {},
   "outputs": [],
   "source": [
    "spark = SparkSession.builder.appName(\"PySparkExample\").getOrCreate()\n"
   ]
  },
  {
   "cell_type": "code",
   "execution_count": 21,
   "id": "0f1292aa-d57b-4101-a7d1-a8ab237cbbf0",
   "metadata": {},
   "outputs": [],
   "source": [
    "df = spark.read.format(\"csv\").option(\"header\",\"true\").option(\"inferSchema\",\"true\").option(\"mode\",\"DROPMALFORMED\").load(\"C:/Users/oseda/Documents/Cloud Assignment/dataset_olympics.csv\")"
   ]
  },
  {
   "cell_type": "code",
   "execution_count": 22,
   "id": "665b0e13-25b2-4423-9032-275d3127bd54",
   "metadata": {},
   "outputs": [
    {
     "name": "stdout",
     "output_type": "stream",
     "text": [
      "+---+--------------------+---+----+------+------+--------------+---+-----------+----+------+-----------+--------------------+--------------------+-----+\n",
      "| ID|                Name|Sex| Age|Height|Weight|          Team|NOC|      Games|Year|Season|       City|               Sport|               Event|Medal|\n",
      "+---+--------------------+---+----+------+------+--------------+---+-----------+----+------+-----------+--------------------+--------------------+-----+\n",
      "|  1|           A Dijiang|  M|24.0| 180.0|  80.0|         China|CHN|1992 Summer|1992|Summer|  Barcelona|          Basketball|Basketball Men's ...| NULL|\n",
      "|  2|            A Lamusi|  M|23.0| 170.0|  60.0|         China|CHN|2012 Summer|2012|Summer|     London|                Judo|Judo Men's Extra-...| NULL|\n",
      "|  3| Gunnar Nielsen Aaby|  M|24.0|  NULL|  NULL|       Denmark|DEN|1920 Summer|1920|Summer|  Antwerpen|            Football|Football Men's Fo...| NULL|\n",
      "|  4|Edgar Lindenau Aabye|  M|34.0|  NULL|  NULL|Denmark/Sweden|DEN|1900 Summer|1900|Summer|      Paris|          Tug-Of-War|Tug-Of-War Men's ...| Gold|\n",
      "|  5|Christine Jacoba ...|  F|21.0| 185.0|  82.0|   Netherlands|NED|1988 Winter|1988|Winter|    Calgary|       Speed Skating|Speed Skating Wom...| NULL|\n",
      "|  5|Christine Jacoba ...|  F|21.0| 185.0|  82.0|   Netherlands|NED|1988 Winter|1988|Winter|    Calgary|       Speed Skating|Speed Skating Wom...| NULL|\n",
      "|  5|Christine Jacoba ...|  F|25.0| 185.0|  82.0|   Netherlands|NED|1992 Winter|1992|Winter|Albertville|       Speed Skating|Speed Skating Wom...| NULL|\n",
      "|  5|Christine Jacoba ...|  F|25.0| 185.0|  82.0|   Netherlands|NED|1992 Winter|1992|Winter|Albertville|       Speed Skating|Speed Skating Wom...| NULL|\n",
      "|  5|Christine Jacoba ...|  F|27.0| 185.0|  82.0|   Netherlands|NED|1994 Winter|1994|Winter|Lillehammer|       Speed Skating|Speed Skating Wom...| NULL|\n",
      "|  5|Christine Jacoba ...|  F|27.0| 185.0|  82.0|   Netherlands|NED|1994 Winter|1994|Winter|Lillehammer|       Speed Skating|Speed Skating Wom...| NULL|\n",
      "|  6|     Per Knut Aaland|  M|31.0| 188.0|  75.0| United States|USA|1992 Winter|1992|Winter|Albertville|Cross Country Skiing|Cross Country Ski...| NULL|\n",
      "|  6|     Per Knut Aaland|  M|31.0| 188.0|  75.0| United States|USA|1992 Winter|1992|Winter|Albertville|Cross Country Skiing|Cross Country Ski...| NULL|\n",
      "|  6|     Per Knut Aaland|  M|31.0| 188.0|  75.0| United States|USA|1992 Winter|1992|Winter|Albertville|Cross Country Skiing|Cross Country Ski...| NULL|\n",
      "|  6|     Per Knut Aaland|  M|31.0| 188.0|  75.0| United States|USA|1992 Winter|1992|Winter|Albertville|Cross Country Skiing|Cross Country Ski...| NULL|\n",
      "|  6|     Per Knut Aaland|  M|33.0| 188.0|  75.0| United States|USA|1994 Winter|1994|Winter|Lillehammer|Cross Country Skiing|Cross Country Ski...| NULL|\n",
      "|  6|     Per Knut Aaland|  M|33.0| 188.0|  75.0| United States|USA|1994 Winter|1994|Winter|Lillehammer|Cross Country Skiing|Cross Country Ski...| NULL|\n",
      "|  6|     Per Knut Aaland|  M|33.0| 188.0|  75.0| United States|USA|1994 Winter|1994|Winter|Lillehammer|Cross Country Skiing|Cross Country Ski...| NULL|\n",
      "|  6|     Per Knut Aaland|  M|33.0| 188.0|  75.0| United States|USA|1994 Winter|1994|Winter|Lillehammer|Cross Country Skiing|Cross Country Ski...| NULL|\n",
      "|  7|        John Aalberg|  M|31.0| 183.0|  72.0| United States|USA|1992 Winter|1992|Winter|Albertville|Cross Country Skiing|Cross Country Ski...| NULL|\n",
      "|  7|        John Aalberg|  M|31.0| 183.0|  72.0| United States|USA|1992 Winter|1992|Winter|Albertville|Cross Country Skiing|Cross Country Ski...| NULL|\n",
      "+---+--------------------+---+----+------+------+--------------+---+-----------+----+------+-----------+--------------------+--------------------+-----+\n",
      "only showing top 20 rows\n",
      "\n"
     ]
    }
   ],
   "source": [
    "df.show()"
   ]
  },
  {
   "cell_type": "code",
   "execution_count": 40,
   "id": "5c7cd330-582a-4157-87a4-baff2eedd91a",
   "metadata": {},
   "outputs": [],
   "source": [
    "df = df.fillna(value=\"None\",subset=[\"Medal\"])"
   ]
  },
  {
   "cell_type": "code",
   "execution_count": 41,
   "id": "20daef1a-10e4-4e98-ac7f-0218003c71bc",
   "metadata": {},
   "outputs": [],
   "source": [
    "df = df.fillna(value=0.0,subset=[\"Height\",\"Weight\"])"
   ]
  },
  {
   "cell_type": "code",
   "execution_count": 42,
   "id": "8ddc2a5e-327f-4960-8034-f9a734f6f471",
   "metadata": {},
   "outputs": [],
   "source": [
    "df = df.drop(\"NOC\")"
   ]
  },
  {
   "cell_type": "code",
   "execution_count": 44,
   "id": "df2e3908-98e8-4148-9f2d-990b5fd9bf74",
   "metadata": {},
   "outputs": [
    {
     "name": "stdout",
     "output_type": "stream",
     "text": [
      "+---+--------------------+---+----+------+------+--------------+-----------+----+------+-----------+--------------------+--------------------+-----+\n",
      "| ID|                Name|Sex| Age|Height|Weight|          Team|      Games|Year|Season|       City|               Sport|               Event|Medal|\n",
      "+---+--------------------+---+----+------+------+--------------+-----------+----+------+-----------+--------------------+--------------------+-----+\n",
      "|  1|           A Dijiang|  M|24.0| 180.0|  80.0|         China|1992 Summer|1992|Summer|  Barcelona|          Basketball|Basketball Men's ...| None|\n",
      "|  2|            A Lamusi|  M|23.0| 170.0|  60.0|         China|2012 Summer|2012|Summer|     London|                Judo|Judo Men's Extra-...| None|\n",
      "|  3| Gunnar Nielsen Aaby|  M|24.0|  NULL|   0.0|       Denmark|1920 Summer|1920|Summer|  Antwerpen|            Football|Football Men's Fo...| None|\n",
      "|  4|Edgar Lindenau Aabye|  M|34.0|  NULL|   0.0|Denmark/Sweden|1900 Summer|1900|Summer|      Paris|          Tug-Of-War|Tug-Of-War Men's ...| Gold|\n",
      "|  5|Christine Jacoba ...|  F|21.0| 185.0|  82.0|   Netherlands|1988 Winter|1988|Winter|    Calgary|       Speed Skating|Speed Skating Wom...| None|\n",
      "|  5|Christine Jacoba ...|  F|21.0| 185.0|  82.0|   Netherlands|1988 Winter|1988|Winter|    Calgary|       Speed Skating|Speed Skating Wom...| None|\n",
      "|  5|Christine Jacoba ...|  F|25.0| 185.0|  82.0|   Netherlands|1992 Winter|1992|Winter|Albertville|       Speed Skating|Speed Skating Wom...| None|\n",
      "|  5|Christine Jacoba ...|  F|25.0| 185.0|  82.0|   Netherlands|1992 Winter|1992|Winter|Albertville|       Speed Skating|Speed Skating Wom...| None|\n",
      "|  5|Christine Jacoba ...|  F|27.0| 185.0|  82.0|   Netherlands|1994 Winter|1994|Winter|Lillehammer|       Speed Skating|Speed Skating Wom...| None|\n",
      "|  5|Christine Jacoba ...|  F|27.0| 185.0|  82.0|   Netherlands|1994 Winter|1994|Winter|Lillehammer|       Speed Skating|Speed Skating Wom...| None|\n",
      "|  6|     Per Knut Aaland|  M|31.0| 188.0|  75.0| United States|1992 Winter|1992|Winter|Albertville|Cross Country Skiing|Cross Country Ski...| None|\n",
      "|  6|     Per Knut Aaland|  M|31.0| 188.0|  75.0| United States|1992 Winter|1992|Winter|Albertville|Cross Country Skiing|Cross Country Ski...| None|\n",
      "|  6|     Per Knut Aaland|  M|31.0| 188.0|  75.0| United States|1992 Winter|1992|Winter|Albertville|Cross Country Skiing|Cross Country Ski...| None|\n",
      "|  6|     Per Knut Aaland|  M|31.0| 188.0|  75.0| United States|1992 Winter|1992|Winter|Albertville|Cross Country Skiing|Cross Country Ski...| None|\n",
      "|  6|     Per Knut Aaland|  M|33.0| 188.0|  75.0| United States|1994 Winter|1994|Winter|Lillehammer|Cross Country Skiing|Cross Country Ski...| None|\n",
      "|  6|     Per Knut Aaland|  M|33.0| 188.0|  75.0| United States|1994 Winter|1994|Winter|Lillehammer|Cross Country Skiing|Cross Country Ski...| None|\n",
      "|  6|     Per Knut Aaland|  M|33.0| 188.0|  75.0| United States|1994 Winter|1994|Winter|Lillehammer|Cross Country Skiing|Cross Country Ski...| None|\n",
      "|  6|     Per Knut Aaland|  M|33.0| 188.0|  75.0| United States|1994 Winter|1994|Winter|Lillehammer|Cross Country Skiing|Cross Country Ski...| None|\n",
      "|  7|        John Aalberg|  M|31.0| 183.0|  72.0| United States|1992 Winter|1992|Winter|Albertville|Cross Country Skiing|Cross Country Ski...| None|\n",
      "|  7|        John Aalberg|  M|31.0| 183.0|  72.0| United States|1992 Winter|1992|Winter|Albertville|Cross Country Skiing|Cross Country Ski...| None|\n",
      "+---+--------------------+---+----+------+------+--------------+-----------+----+------+-----------+--------------------+--------------------+-----+\n",
      "only showing top 20 rows\n",
      "\n"
     ]
    }
   ],
   "source": [
    "df.show()"
   ]
  },
  {
   "cell_type": "code",
   "execution_count": null,
   "id": "fe58a470-6ec9-47e3-be87-b9f5a95abdcc",
   "metadata": {},
   "outputs": [],
   "source": []
  }
 ],
 "metadata": {
  "kernelspec": {
   "display_name": "Python 3 (ipykernel)",
   "language": "python",
   "name": "python3"
  },
  "language_info": {
   "codemirror_mode": {
    "name": "ipython",
    "version": 3
   },
   "file_extension": ".py",
   "mimetype": "text/x-python",
   "name": "python",
   "nbconvert_exporter": "python",
   "pygments_lexer": "ipython3",
   "version": "3.12.7"
  }
 },
 "nbformat": 4,
 "nbformat_minor": 5
}
